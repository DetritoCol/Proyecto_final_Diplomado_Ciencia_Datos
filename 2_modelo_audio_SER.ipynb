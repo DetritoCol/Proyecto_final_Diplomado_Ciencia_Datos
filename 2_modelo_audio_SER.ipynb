{
 "cells": [
  {
   "cell_type": "markdown",
   "id": "2b2cab81",
   "metadata": {},
   "source": [
    "# DETECCIÓN DE EMOCIONES POR MEDIO DE EXPRESIONES EN EL HABLA (SER) \n",
    "\n",
    "\n",
    "\n",
    "En primer lugar se importan las librerías que se van a emplear el en código"
   ]
  },
  {
   "cell_type": "code",
   "execution_count": 3,
   "id": "37c4fe16",
   "metadata": {},
   "outputs": [],
   "source": [
    "import os\n",
    "import pandas as pd\n",
    "import numpy as np\n",
    "\n",
    "import librosa\n",
    "import matplotlib.pyplot as plt\n",
    "\n",
    "\n",
    "from pydub import AudioSegment, effects\n",
    "\n",
    "from sklearn.model_selection import train_test_split\n",
    "from tensorflow.keras.utils import to_categorical\n",
    "\n",
    "from keras.models import Sequential\n",
    "from keras import layers, optimizers, callbacks\n",
    "\n",
    "from sklearn.metrics import confusion_matrix\n",
    "\n",
    "import seaborn as sns"
   ]
  },
  {
   "cell_type": "markdown",
   "id": "53b026bc",
   "metadata": {},
   "source": [
    " Se imprime el directorio de trabajo actual."
   ]
  },
  {
   "cell_type": "code",
   "execution_count": 4,
   "id": "4c8af3c6",
   "metadata": {},
   "outputs": [
    {
     "name": "stdout",
     "output_type": "stream",
     "text": [
      "Python 3.10.9\r\n"
     ]
    },
    {
     "data": {
      "text/plain": [
       "'/Users/macbook/Documents/ESPECIALIZACIÓN/2do SEMESTRE/INTELIGENCIA ARTIFICIAL/Proyecto'"
      ]
     },
     "execution_count": 4,
     "metadata": {},
     "output_type": "execute_result"
    }
   ],
   "source": [
    "import os\n",
    "!python --version\n",
    "os.getcwd()"
   ]
  },
  {
   "cell_type": "markdown",
   "id": "82d71a97",
   "metadata": {},
   "source": [
    "Ahora se leen los directorios a los datos. "
   ]
  },
  {
   "cell_type": "code",
   "execution_count": 16,
   "id": "0f2d48bc",
   "metadata": {},
   "outputs": [],
   "source": [
    "CREMA = './Base SER/AudioWAV' \n",
    "TESS = \"./Base SER/TESS Toronto emotional speech set data/TESS Toronto emotional speech set data\"\n",
    "SAVEE = \"./Base SER/ALL\""
   ]
  },
  {
   "cell_type": "markdown",
   "id": "3ba0aac1",
   "metadata": {},
   "source": [
    "se recorren los archivos en el directorio **CREMA**, se extrae información relevante de los nombres de los archivos y se crea un DataFrame que contiene la ruta del archivo, el género y la emoción asociados a cada archivo de audio."
   ]
  },
  {
   "cell_type": "code",
   "execution_count": 17,
   "id": "51a0d74d",
   "metadata": {},
   "outputs": [
    {
     "data": {
      "text/html": [
       "<div>\n",
       "<style scoped>\n",
       "    .dataframe tbody tr th:only-of-type {\n",
       "        vertical-align: middle;\n",
       "    }\n",
       "\n",
       "    .dataframe tbody tr th {\n",
       "        vertical-align: top;\n",
       "    }\n",
       "\n",
       "    .dataframe thead th {\n",
       "        text-align: right;\n",
       "    }\n",
       "</style>\n",
       "<table border=\"1\" class=\"dataframe\">\n",
       "  <thead>\n",
       "    <tr style=\"text-align: right;\">\n",
       "      <th></th>\n",
       "      <th>path</th>\n",
       "      <th>sex</th>\n",
       "      <th>emotion</th>\n",
       "    </tr>\n",
       "  </thead>\n",
       "  <tbody>\n",
       "    <tr>\n",
       "      <th>0</th>\n",
       "      <td>./Base SER/AudioWAV/1028_IEO_SAD_HI.wav</td>\n",
       "      <td>female</td>\n",
       "      <td>sad</td>\n",
       "    </tr>\n",
       "    <tr>\n",
       "      <th>1</th>\n",
       "      <td>./Base SER/AudioWAV/1048_IEO_ANG_HI.wav</td>\n",
       "      <td>male</td>\n",
       "      <td>angry</td>\n",
       "    </tr>\n",
       "    <tr>\n",
       "      <th>2</th>\n",
       "      <td>./Base SER/AudioWAV/1027_IEO_DIS_HI.wav</td>\n",
       "      <td>male</td>\n",
       "      <td>disgust</td>\n",
       "    </tr>\n",
       "    <tr>\n",
       "      <th>3</th>\n",
       "      <td>./Base SER/AudioWAV/1032_IEO_DIS_HI.wav</td>\n",
       "      <td>male</td>\n",
       "      <td>disgust</td>\n",
       "    </tr>\n",
       "    <tr>\n",
       "      <th>4</th>\n",
       "      <td>./Base SER/AudioWAV/1080_IEO_HAP_HI.wav</td>\n",
       "      <td>male</td>\n",
       "      <td>happy</td>\n",
       "    </tr>\n",
       "  </tbody>\n",
       "</table>\n",
       "</div>"
      ],
      "text/plain": [
       "                                      path     sex  emotion\n",
       "0  ./Base SER/AudioWAV/1028_IEO_SAD_HI.wav  female      sad\n",
       "1  ./Base SER/AudioWAV/1048_IEO_ANG_HI.wav    male    angry\n",
       "2  ./Base SER/AudioWAV/1027_IEO_DIS_HI.wav    male  disgust\n",
       "3  ./Base SER/AudioWAV/1032_IEO_DIS_HI.wav    male  disgust\n",
       "4  ./Base SER/AudioWAV/1080_IEO_HAP_HI.wav    male    happy"
      ]
     },
     "execution_count": 17,
     "metadata": {},
     "output_type": "execute_result"
    }
   ],
   "source": [
    "crema_dir_list = os.listdir(CREMA)\n",
    "path_list = []\n",
    "gender_list = []\n",
    "emotion_list = []\n",
    "\n",
    "emotion_dic = {\n",
    "    'HAP' : 'happy',\n",
    "    'NEU' : 'neutral',\n",
    "    'SAD' : 'sad',\n",
    "    'ANG' : 'angry',\n",
    "    'FEA' : 'fear',\n",
    "    'DIS' : 'disgust',\n",
    "}\n",
    "\n",
    "female_id_list = [\n",
    "    '1002', '1003', '1004', '1006', '1007', '1008', '1009', '1010', '1012', '1013', '1018', \n",
    "    '1020', '1021', '1024', '1025', '1028', '1029', '1030', '1037', '1043', '1046', '1047', \n",
    "    '1049', '1052', '1053', '1054', '1055', '1056', '1058', '1060', '1061', '1063', '1072', \n",
    "    '1073', '1074', '1075', '1076', '1078', '1079', '1082', '1084', '1089', '1091',\n",
    "]\n",
    "\n",
    "for audio_file in crema_dir_list:\n",
    "    part = audio_file.split('_')\n",
    "    key = part[2]\n",
    "    if key in emotion_dic and part[3] == 'HI.wav':\n",
    "        path_list.append(f\"{CREMA}/{audio_file}\")\n",
    "        gender_list.append('female' if part[0] in female_id_list else 'male')\n",
    "        emotion_list.append(emotion_dic[key])\n",
    "\n",
    "crema_df = pd.concat([\n",
    "    pd.DataFrame(path_list, columns=['path']),\n",
    "    pd.DataFrame(gender_list, columns=['sex']),\n",
    "    pd.DataFrame(emotion_list, columns=['emotion'])\n",
    "], axis=1)\n",
    "\n",
    "crema_df.head()\n",
    "\n",
    "\n"
   ]
  },
  {
   "cell_type": "markdown",
   "id": "e475a45d",
   "metadata": {},
   "source": [
    "recorre los directorios y archivos en el directorio **TESS**, extrae información relevante de los nombres de los archivos y crea un DataFrame que contiene la ruta del archivo, el género y la emoción asociados a cada archivo de audio en el conjunto de datos TESS."
   ]
  },
  {
   "cell_type": "code",
   "execution_count": 18,
   "id": "bd81c7d2",
   "metadata": {},
   "outputs": [
    {
     "data": {
      "text/html": [
       "<div>\n",
       "<style scoped>\n",
       "    .dataframe tbody tr th:only-of-type {\n",
       "        vertical-align: middle;\n",
       "    }\n",
       "\n",
       "    .dataframe tbody tr th {\n",
       "        vertical-align: top;\n",
       "    }\n",
       "\n",
       "    .dataframe thead th {\n",
       "        text-align: right;\n",
       "    }\n",
       "</style>\n",
       "<table border=\"1\" class=\"dataframe\">\n",
       "  <thead>\n",
       "    <tr style=\"text-align: right;\">\n",
       "      <th></th>\n",
       "      <th>path</th>\n",
       "      <th>sex</th>\n",
       "      <th>emotion</th>\n",
       "    </tr>\n",
       "  </thead>\n",
       "  <tbody>\n",
       "    <tr>\n",
       "      <th>0</th>\n",
       "      <td>./Base SER/TESS Toronto emotional speech set d...</td>\n",
       "      <td>female</td>\n",
       "      <td>disgust</td>\n",
       "    </tr>\n",
       "    <tr>\n",
       "      <th>1</th>\n",
       "      <td>./Base SER/TESS Toronto emotional speech set d...</td>\n",
       "      <td>female</td>\n",
       "      <td>disgust</td>\n",
       "    </tr>\n",
       "    <tr>\n",
       "      <th>2</th>\n",
       "      <td>./Base SER/TESS Toronto emotional speech set d...</td>\n",
       "      <td>female</td>\n",
       "      <td>disgust</td>\n",
       "    </tr>\n",
       "    <tr>\n",
       "      <th>3</th>\n",
       "      <td>./Base SER/TESS Toronto emotional speech set d...</td>\n",
       "      <td>female</td>\n",
       "      <td>disgust</td>\n",
       "    </tr>\n",
       "    <tr>\n",
       "      <th>4</th>\n",
       "      <td>./Base SER/TESS Toronto emotional speech set d...</td>\n",
       "      <td>female</td>\n",
       "      <td>disgust</td>\n",
       "    </tr>\n",
       "  </tbody>\n",
       "</table>\n",
       "</div>"
      ],
      "text/plain": [
       "                                                path     sex  emotion\n",
       "0  ./Base SER/TESS Toronto emotional speech set d...  female  disgust\n",
       "1  ./Base SER/TESS Toronto emotional speech set d...  female  disgust\n",
       "2  ./Base SER/TESS Toronto emotional speech set d...  female  disgust\n",
       "3  ./Base SER/TESS Toronto emotional speech set d...  female  disgust\n",
       "4  ./Base SER/TESS Toronto emotional speech set d...  female  disgust"
      ]
     },
     "execution_count": 18,
     "metadata": {},
     "output_type": "execute_result"
    }
   ],
   "source": [
    "tess_dir_list = os.listdir(TESS)\n",
    "path_list = []\n",
    "gender_list = []\n",
    "emotion_list = []\n",
    "\n",
    "emotion_dic = {\n",
    "    'happy': 'happy',\n",
    "    'neutral': 'neutral',\n",
    "    'sad': 'sad',\n",
    "    'Sad': 'sad',\n",
    "    'angry': 'angry',\n",
    "    'fear': 'fear',\n",
    "    'disgust': 'disgust',\n",
    "}\n",
    "\n",
    "for directory in tess_dir_list:\n",
    "    audio_files = os.listdir(os.path.join(TESS, directory))\n",
    "    for audio_file in audio_files:\n",
    "        part = audio_file.split('.')[0]\n",
    "        key = part.split('_')[2]\n",
    "        if key in emotion_dic:\n",
    "            path_list.append(f\"{TESS}/{directory}/{audio_file}\")\n",
    "            gender_list.append('female')  # Solo conjunto de datos femenino\n",
    "            emotion_list.append(emotion_dic[key])\n",
    "\n",
    "tess_df = pd.concat([\n",
    "    pd.DataFrame(path_list, columns=['path']),\n",
    "    pd.DataFrame(gender_list, columns=['sex']),\n",
    "    pd.DataFrame(emotion_list, columns=['emotion'])\n",
    "], axis=1)\n",
    "\n",
    "tess_df.head()"
   ]
  },
  {
   "cell_type": "markdown",
   "id": "9e6c05f2",
   "metadata": {},
   "source": [
    "Se repite el proceso para las bases anteriores pero esta vez con la base **SAVEE**."
   ]
  },
  {
   "cell_type": "code",
   "execution_count": 26,
   "id": "edd9e5ed",
   "metadata": {},
   "outputs": [
    {
     "data": {
      "text/html": [
       "<div>\n",
       "<style scoped>\n",
       "    .dataframe tbody tr th:only-of-type {\n",
       "        vertical-align: middle;\n",
       "    }\n",
       "\n",
       "    .dataframe tbody tr th {\n",
       "        vertical-align: top;\n",
       "    }\n",
       "\n",
       "    .dataframe thead th {\n",
       "        text-align: right;\n",
       "    }\n",
       "</style>\n",
       "<table border=\"1\" class=\"dataframe\">\n",
       "  <thead>\n",
       "    <tr style=\"text-align: right;\">\n",
       "      <th></th>\n",
       "      <th>path</th>\n",
       "      <th>sex</th>\n",
       "      <th>emotion</th>\n",
       "    </tr>\n",
       "  </thead>\n",
       "  <tbody>\n",
       "    <tr>\n",
       "      <th>0</th>\n",
       "      <td>./Base SER/ALL/JK_sa01.wav</td>\n",
       "      <td>male</td>\n",
       "      <td>sad</td>\n",
       "    </tr>\n",
       "    <tr>\n",
       "      <th>1</th>\n",
       "      <td>./Base SER/ALL/JK_sa15.wav</td>\n",
       "      <td>male</td>\n",
       "      <td>sad</td>\n",
       "    </tr>\n",
       "    <tr>\n",
       "      <th>2</th>\n",
       "      <td>./Base SER/ALL/DC_n13.wav</td>\n",
       "      <td>male</td>\n",
       "      <td>neutral</td>\n",
       "    </tr>\n",
       "    <tr>\n",
       "      <th>3</th>\n",
       "      <td>./Base SER/ALL/DC_n07.wav</td>\n",
       "      <td>male</td>\n",
       "      <td>neutral</td>\n",
       "    </tr>\n",
       "    <tr>\n",
       "      <th>4</th>\n",
       "      <td>./Base SER/ALL/JK_n20.wav</td>\n",
       "      <td>male</td>\n",
       "      <td>neutral</td>\n",
       "    </tr>\n",
       "  </tbody>\n",
       "</table>\n",
       "</div>"
      ],
      "text/plain": [
       "                         path   sex  emotion\n",
       "0  ./Base SER/ALL/JK_sa01.wav  male      sad\n",
       "1  ./Base SER/ALL/JK_sa15.wav  male      sad\n",
       "2   ./Base SER/ALL/DC_n13.wav  male  neutral\n",
       "3   ./Base SER/ALL/DC_n07.wav  male  neutral\n",
       "4   ./Base SER/ALL/JK_n20.wav  male  neutral"
      ]
     },
     "execution_count": 26,
     "metadata": {},
     "output_type": "execute_result"
    }
   ],
   "source": [
    "savee_dir_list = os.listdir(SAVEE)\n",
    "path_list = []\n",
    "gender_list = []\n",
    "emotion_list = []\n",
    "\n",
    "emotion_dic = {\n",
    "    'h'  : 'happy',\n",
    "    'n'  : 'neutral',\n",
    "    'sa' : 'sad',\n",
    "    'a'  : 'angry',\n",
    "    'f'  : 'fear',\n",
    "    'd'  : 'disgust'\n",
    "}\n",
    "\n",
    "for audio_file in savee_dir_list:\n",
    "    part = audio_file.split('_')[1]\n",
    "    key = part[:-6]\n",
    "    if key in emotion_dic:\n",
    "        path_list.append(f\"{SAVEE}/{audio_file}\")\n",
    "        gender_list.append('male') # male only dataset\n",
    "        emotion_list.append(emotion_dic[key])\n",
    "        \n",
    "savee_df = pd.concat([\n",
    "    pd.DataFrame(path_list, columns=['path']),\n",
    "    pd.DataFrame(gender_list, columns=['sex']),\n",
    "    pd.DataFrame(emotion_list, columns=['emotion'])\n",
    "], axis=1)\n",
    "\n",
    "savee_df.head()"
   ]
  },
  {
   "cell_type": "markdown",
   "id": "62a008b9",
   "metadata": {},
   "source": [
    "Se crea un *dataframe* con los datos de las tres bases anteriores."
   ]
  },
  {
   "cell_type": "code",
   "execution_count": 27,
   "id": "8e508043",
   "metadata": {},
   "outputs": [
    {
     "data": {
      "text/html": [
       "<div>\n",
       "<style scoped>\n",
       "    .dataframe tbody tr th:only-of-type {\n",
       "        vertical-align: middle;\n",
       "    }\n",
       "\n",
       "    .dataframe tbody tr th {\n",
       "        vertical-align: top;\n",
       "    }\n",
       "\n",
       "    .dataframe thead th {\n",
       "        text-align: right;\n",
       "    }\n",
       "</style>\n",
       "<table border=\"1\" class=\"dataframe\">\n",
       "  <thead>\n",
       "    <tr style=\"text-align: right;\">\n",
       "      <th></th>\n",
       "      <th>path</th>\n",
       "      <th>sex</th>\n",
       "      <th>emotion</th>\n",
       "    </tr>\n",
       "  </thead>\n",
       "  <tbody>\n",
       "    <tr>\n",
       "      <th>0</th>\n",
       "      <td>./Base SER/AudioWAV/1028_IEO_SAD_HI.wav</td>\n",
       "      <td>female</td>\n",
       "      <td>sad</td>\n",
       "    </tr>\n",
       "    <tr>\n",
       "      <th>1</th>\n",
       "      <td>./Base SER/AudioWAV/1048_IEO_ANG_HI.wav</td>\n",
       "      <td>male</td>\n",
       "      <td>angry</td>\n",
       "    </tr>\n",
       "    <tr>\n",
       "      <th>2</th>\n",
       "      <td>./Base SER/AudioWAV/1027_IEO_DIS_HI.wav</td>\n",
       "      <td>male</td>\n",
       "      <td>disgust</td>\n",
       "    </tr>\n",
       "    <tr>\n",
       "      <th>3</th>\n",
       "      <td>./Base SER/AudioWAV/1032_IEO_DIS_HI.wav</td>\n",
       "      <td>male</td>\n",
       "      <td>disgust</td>\n",
       "    </tr>\n",
       "    <tr>\n",
       "      <th>4</th>\n",
       "      <td>./Base SER/AudioWAV/1080_IEO_HAP_HI.wav</td>\n",
       "      <td>male</td>\n",
       "      <td>happy</td>\n",
       "    </tr>\n",
       "  </tbody>\n",
       "</table>\n",
       "</div>"
      ],
      "text/plain": [
       "                                      path     sex  emotion\n",
       "0  ./Base SER/AudioWAV/1028_IEO_SAD_HI.wav  female      sad\n",
       "1  ./Base SER/AudioWAV/1048_IEO_ANG_HI.wav    male    angry\n",
       "2  ./Base SER/AudioWAV/1027_IEO_DIS_HI.wav    male  disgust\n",
       "3  ./Base SER/AudioWAV/1032_IEO_DIS_HI.wav    male  disgust\n",
       "4  ./Base SER/AudioWAV/1080_IEO_HAP_HI.wav    male    happy"
      ]
     },
     "execution_count": 27,
     "metadata": {},
     "output_type": "execute_result"
    }
   ],
   "source": [
    "df = pd.concat([\n",
    "    crema_df, \n",
    "    tess_df, \n",
    "    savee_df\n",
    "], axis=0)\n",
    "df.head()"
   ]
  },
  {
   "cell_type": "markdown",
   "id": "68fdcf04",
   "metadata": {},
   "source": [
    "Se grafícan los datos de **df** teniendo en cuenta emoción y genero."
   ]
  },
  {
   "cell_type": "code",
   "execution_count": 28,
   "id": "58009797",
   "metadata": {},
   "outputs": [
    {
     "data": {
      "image/png": "[encoded data removed]",
      "text/plain": [
       "<Figure size 600x300 with 1 Axes>"
      ]
     },
     "metadata": {},
     "output_type": "display_data"
    }
   ],
   "source": [
    "def plot_distribution(df): \n",
    "    countTable = df.groupby(['emotion', 'sex']).count()\n",
    "    pivotTable = countTable.pivot_table(index='emotion', columns='sex', values='path')\n",
    "\n",
    "    pivotTable.plot(kind='bar', figsize=(6, 3), color=['red', 'blue'])\n",
    "    plt.title('Emotion and Gender Distribution')\n",
    "    plt.xlabel('Emotion')\n",
    "    plt.ylabel('Count')\n",
    "    plt.show()\n",
    "    \n",
    "plot_distribution(df)"
   ]
  },
  {
   "cell_type": "markdown",
   "id": "175a5a6c",
   "metadata": {},
   "source": [
    "Se plotean los primeros valores del nuevo dataframe **df**"
   ]
  },
  {
   "cell_type": "code",
   "execution_count": 29,
   "id": "5b4f8ea4",
   "metadata": {},
   "outputs": [
    {
     "data": {
      "text/html": [
       "<div>\n",
       "<style scoped>\n",
       "    .dataframe tbody tr th:only-of-type {\n",
       "        vertical-align: middle;\n",
       "    }\n",
       "\n",
       "    .dataframe tbody tr th {\n",
       "        vertical-align: top;\n",
       "    }\n",
       "\n",
       "    .dataframe thead th {\n",
       "        text-align: right;\n",
       "    }\n",
       "</style>\n",
       "<table border=\"1\" class=\"dataframe\">\n",
       "  <thead>\n",
       "    <tr style=\"text-align: right;\">\n",
       "      <th></th>\n",
       "      <th>path</th>\n",
       "      <th>emotion</th>\n",
       "    </tr>\n",
       "  </thead>\n",
       "  <tbody>\n",
       "    <tr>\n",
       "      <th>0</th>\n",
       "      <td>./Base SER/AudioWAV/1028_IEO_SAD_HI.wav</td>\n",
       "      <td>sad</td>\n",
       "    </tr>\n",
       "    <tr>\n",
       "      <th>1</th>\n",
       "      <td>./Base SER/AudioWAV/1048_IEO_ANG_HI.wav</td>\n",
       "      <td>angry</td>\n",
       "    </tr>\n",
       "    <tr>\n",
       "      <th>2</th>\n",
       "      <td>./Base SER/AudioWAV/1027_IEO_DIS_HI.wav</td>\n",
       "      <td>disgust</td>\n",
       "    </tr>\n",
       "    <tr>\n",
       "      <th>3</th>\n",
       "      <td>./Base SER/AudioWAV/1032_IEO_DIS_HI.wav</td>\n",
       "      <td>disgust</td>\n",
       "    </tr>\n",
       "    <tr>\n",
       "      <th>4</th>\n",
       "      <td>./Base SER/AudioWAV/1080_IEO_HAP_HI.wav</td>\n",
       "      <td>happy</td>\n",
       "    </tr>\n",
       "  </tbody>\n",
       "</table>\n",
       "</div>"
      ],
      "text/plain": [
       "                                      path  emotion\n",
       "0  ./Base SER/AudioWAV/1028_IEO_SAD_HI.wav      sad\n",
       "1  ./Base SER/AudioWAV/1048_IEO_ANG_HI.wav    angry\n",
       "2  ./Base SER/AudioWAV/1027_IEO_DIS_HI.wav  disgust\n",
       "3  ./Base SER/AudioWAV/1032_IEO_DIS_HI.wav  disgust\n",
       "4  ./Base SER/AudioWAV/1080_IEO_HAP_HI.wav    happy"
      ]
     },
     "execution_count": 29,
     "metadata": {},
     "output_type": "execute_result"
    }
   ],
   "source": [
    "df.drop('sex', axis=1, inplace=True)\n",
    "df.head()"
   ]
  },
  {
   "cell_type": "markdown",
   "id": "9e864923",
   "metadata": {},
   "source": [
    "Se define el proceso **preprocess_audio** donde se carga un archivo de audio, elimina los segmentos de silencio MEDIANTE ***trim()***, ajusta la longitud a 180,000 muestras y devuelve el audio preprocesado junto con la tasa de muestreo."
   ]
  },
  {
   "cell_type": "code",
   "execution_count": 30,
   "id": "c680f744",
   "metadata": {},
   "outputs": [],
   "source": [
    "def preprocess_audio(path):\n",
    "    _, sr = librosa.load(path)\n",
    "    raw_audio = AudioSegment.from_file(path)\n",
    "    \n",
    "    samples = np.array(raw_audio.get_array_of_samples(), dtype='float32')\n",
    "    trimmed, _ = librosa.effects.trim(samples, top_db=25)\n",
    "    padded = np.pad(trimmed, (0, 180000-len(trimmed)), 'constant')\n",
    "    return padded, sr"
   ]
  },
  {
   "cell_type": "markdown",
   "id": "649b7fc5",
   "metadata": {},
   "source": [
    "Se usa la función ***encode()***, esta busca el valor correspondiente a la etiqueta dada en el diccionario utilizando el método ***get()*** y devuelve ese valor, es decir, si llamamos a ***encode('happy')***, la función retornará 1."
   ]
  },
  {
   "cell_type": "code",
   "execution_count": 31,
   "id": "ca4a8d9c",
   "metadata": {},
   "outputs": [],
   "source": [
    "emotion_dic = {\n",
    "    'neutral' : 0,\n",
    "    'happy'   : 1,\n",
    "    'sad'     : 2, \n",
    "    'angry'   : 3, \n",
    "    'fear'    : 4, \n",
    "    'disgust' : 5\n",
    "}\n",
    "\n",
    "def encode(label):\n",
    "    return emotion_dic.get(label)"
   ]
  },
  {
   "cell_type": "markdown",
   "id": "3db237ab",
   "metadata": {},
   "source": [
    "Se procesan los archivos de audio especificados en un **DataFrame** utilizando ***librosa*** para extraer características como la tasa de cruce por cero, el valor cuadrático medio y los coeficientes cepstrales de frecuencia Mel. Los resultados se almacenan en listas separadas para cada característica y para la emoción asociada a cada archivo.\n",
    "\n",
    "En caso de que la ruta de tratamiento no funciones se generara una salida con la ruta del archivo que no pudo ser procesado.\n",
    "\n",
    "Para la creación del conjunto de datos no pudieron procesarse 112 archivos de **TESS** df"
   ]
  },
  {
   "cell_type": "code",
   "execution_count": 32,
   "id": "a3cb4d63",
   "metadata": {},
   "outputs": [
    {
     "name": "stderr",
     "output_type": "stream",
     "text": [
      "/Users/macbook/anaconda3/lib/python3.10/site-packages/pydub/utils.py:198: RuntimeWarning: Couldn't find ffprobe or avprobe - defaulting to ffprobe, but may not work\n",
      "  warn(\"Couldn't find ffprobe or avprobe - defaulting to ffprobe, but may not work\", RuntimeWarning)\n"
     ]
    },
    {
     "name": "stdout",
     "output_type": "stream",
     "text": [
      "Failed for path:./Base SER/TESS Toronto emotional speech set data/TESS Toronto emotional speech set data/YAF_fear/YAF_neat_fear.wav\n"
     ]
    },
    {
     "name": "stderr",
     "output_type": "stream",
     "text": [
      "/Users/macbook/anaconda3/lib/python3.10/site-packages/pydub/utils.py:198: RuntimeWarning: Couldn't find ffprobe or avprobe - defaulting to ffprobe, but may not work\n",
      "  warn(\"Couldn't find ffprobe or avprobe - defaulting to ffprobe, but may not work\", RuntimeWarning)\n"
     ]
    },
    {
     "name": "stdout",
     "output_type": "stream",
     "text": [
      "Failed for path:./Base SER/TESS Toronto emotional speech set data/TESS Toronto emotional speech set data/YAF_angry/YAF_germ_angry.wav\n",
      "Failed for path:./Base SER/ALL/JK_sa01.wav\n",
      "Failed for path:./Base SER/ALL/JK_sa15.wav\n",
      "Failed for path:./Base SER/ALL/JE_sa08.wav\n",
      "Failed for path:./Base SER/ALL/JK_f15.wav\n",
      "Failed for path:./Base SER/ALL/KL_sa13.wav\n",
      "Failed for path:./Base SER/ALL/DC_h15.wav\n",
      "Failed for path:./Base SER/ALL/DC_h14.wav\n",
      "Failed for path:./Base SER/ALL/KL_sa12.wav\n",
      "Failed for path:./Base SER/ALL/DC_n06.wav\n",
      "Failed for path:./Base SER/ALL/JK_sa14.wav\n",
      "Failed for path:./Base SER/ALL/JK_sa02.wav\n",
      "Failed for path:./Base SER/ALL/DC_n10.wav\n",
      "Failed for path:./Base SER/ALL/KL_sa04.wav\n",
      "Failed for path:./Base SER/ALL/KL_sa10.wav\n",
      "Failed for path:./Base SER/ALL/JK_d14.wav\n",
      "Failed for path:./Base SER/ALL/JK_d15.wav\n",
      "Failed for path:./Base SER/ALL/KL_sa11.wav\n",
      "Failed for path:./Base SER/ALL/JK_d01.wav\n",
      "Failed for path:./Base SER/ALL/KL_sa05.wav\n",
      "Failed for path:./Base SER/ALL/DC_n11.wav\n",
      "Failed for path:./Base SER/ALL/JK_sa13.wav\n",
      "Failed for path:./Base SER/ALL/DC_n15.wav\n",
      "Failed for path:./Base SER/ALL/JK_f07.wav\n",
      "Failed for path:./Base SER/ALL/KL_sa15.wav\n",
      "Failed for path:./Base SER/ALL/DC_h12.wav\n",
      "Failed for path:./Base SER/ALL/JK_d10.wav\n",
      "Failed for path:./Base SER/ALL/KL_sa14.wav\n",
      "Failed for path:./Base SER/ALL/JK_f12.wav\n",
      "Failed for path:./Base SER/ALL/JK_n27.wav\n",
      "Failed for path:./Base SER/ALL/DC_n14.wav\n",
      "Failed for path:./Base SER/ALL/DC_n28.wav\n",
      "Failed for path:./Base SER/ALL/JK_sa12.wav\n",
      "Failed for path:./Base SER/ALL/JK_sa04.wav\n",
      "Failed for path:./Base SER/ALL/JK_sa10.wav\n",
      "Failed for path:./Base SER/ALL/DC_d09.wav\n",
      "Failed for path:./Base SER/ALL/DC_h11.wav\n",
      "Failed for path:./Base SER/ALL/DC_h05.wav\n",
      "Failed for path:./Base SER/ALL/JK_d13.wav\n",
      "Failed for path:./Base SER/ALL/DC_d08.wav\n",
      "Failed for path:./Base SER/ALL/JK_n30.wav\n",
      "Failed for path:./Base SER/ALL/JK_sa11.wav\n",
      "Failed for path:./Base SER/ALL/JK_sa05.wav\n",
      "Failed for path:./Base SER/ALL/JE_h12.wav\n",
      "Failed for path:./Base SER/ALL/JE_f09.wav\n",
      "Failed for path:./Base SER/ALL/JE_n14.wav\n",
      "Failed for path:./Base SER/ALL/JE_n28.wav\n",
      "Failed for path:./Base SER/ALL/DC_sa11.wav\n",
      "Failed for path:./Base SER/ALL/DC_sa05.wav\n",
      "Failed for path:./Base SER/ALL/KL_h11.wav\n",
      "Failed for path:./Base SER/ALL/DC_sa04.wav\n",
      "Failed for path:./Base SER/ALL/DC_sa10.wav\n",
      "Failed for path:./Base SER/ALL/JE_n15.wav\n",
      "Failed for path:./Base SER/ALL/JE_f08.wav\n",
      "Failed for path:./Base SER/ALL/KL_n14.wav\n",
      "Failed for path:./Base SER/ALL/JE_d08.wav\n",
      "Failed for path:./Base SER/ALL/JE_h11.wav\n",
      "Failed for path:./Base SER/ALL/JK_a13.wav\n",
      "Failed for path:./Base SER/ALL/DC_sa06.wav\n",
      "Failed for path:./Base SER/ALL/DC_sa12.wav\n",
      "Failed for path:./Base SER/ALL/DC_sa13.wav\n",
      "Failed for path:./Base SER/ALL/JE_d09.wav\n",
      "Failed for path:./Base SER/ALL/KL_n11.wav\n",
      "Failed for path:./Base SER/ALL/JE_n07.wav\n",
      "Failed for path:./Base SER/ALL/JE_h15.wav\n",
      "Failed for path:./Base SER/ALL/JE_h01.wav\n",
      "Failed for path:./Base SER/ALL/JK_a01.wav\n",
      "Failed for path:./Base SER/ALL/JE_n05.wav\n",
      "Failed for path:./Base SER/ALL/JE_n11.wav\n",
      "Failed for path:./Base SER/ALL/DC_sa14.wav\n",
      "Failed for path:./Base SER/ALL/KL_h15.wav\n",
      "Failed for path:./Base SER/ALL/DC_sa01.wav\n",
      "Failed for path:./Base SER/ALL/DC_sa15.wav\n",
      "Failed for path:./Base SER/ALL/JK_a14.wav\n",
      "Failed for path:./Base SER/ALL/KL_d15.wav\n",
      "Failed for path:./Base SER/ALL/JE_f15.wav\n",
      "Failed for path:./Base SER/ALL/JE_d01.wav\n",
      "Failed for path:./Base SER/ALL/JE_d15.wav\n",
      "Failed for path:./Base SER/ALL/DC_a14.wav\n",
      "Failed for path:./Base SER/ALL/JE_d14.wav\n",
      "Failed for path:./Base SER/ALL/JE_f12.wav\n",
      "Failed for path:./Base SER/ALL/JE_n27.wav\n",
      "Failed for path:./Base SER/ALL/KL_f11.wav\n",
      "Failed for path:./Base SER/ALL/JE_f07.wav\n",
      "Failed for path:./Base SER/ALL/JE_d13.wav\n",
      "Failed for path:./Base SER/ALL/JE_f11.wav\n",
      "Failed for path:./Base SER/ALL/DC_a13.wav\n",
      "Failed for path:./Base SER/ALL/JK_n01.wav\n",
      "Failed for path:./Base SER/ALL/JK_n15.wav\n",
      "Failed for path:./Base SER/ALL/JK_f08.wav\n",
      "Failed for path:./Base SER/ALL/JE_sa01.wav\n",
      "Failed for path:./Base SER/ALL/JE_sa15.wav\n",
      "Failed for path:./Base SER/ALL/DC_f12.wav\n",
      "Failed for path:./Base SER/ALL/JK_h12.wav\n",
      "Failed for path:./Base SER/ALL/JE_sa14.wav\n",
      "Failed for path:./Base SER/ALL/DC_d10.wav\n",
      "Failed for path:./Base SER/ALL/DC_d04.wav\n",
      "Failed for path:./Base SER/ALL/JK_n14.wav\n",
      "Failed for path:./Base SER/ALL/DC_n27.wav\n",
      "Failed for path:./Base SER/ALL/JK_n16.wav\n",
      "Failed for path:./Base SER/ALL/DC_f11.wav\n",
      "Failed for path:./Base SER/ALL/JK_h11.wav\n",
      "Failed for path:./Base SER/ALL/DC_d13.wav\n",
      "Failed for path:./Base SER/ALL/DC_n30.wav\n",
      "Failed for path:./Base SER/ALL/JE_sa13.wav\n",
      "Failed for path:./Base SER/ALL/DC_f15.wav\n",
      "Failed for path:./Base SER/ALL/DC_f14.wav\n",
      "Failed for path:./Base SER/ALL/JE_sa06.wav\n",
      "Failed for path:./Base SER/ALL/JE_sa12.wav\n",
      "Failed for path:./Base SER/ALL/JE_a14.wav\n",
      "Failed for path:./Base SER/ALL/JE_sa04.wav\n",
      "Failed for path:./Base SER/ALL/DC_d14.wav\n",
      "Failed for path:./Base SER/ALL/JE_sa10.wav\n",
      "Failed for path:./Base SER/ALL/DC_d15.wav\n",
      "Failed for path:./Base SER/ALL/JE_sa11.wav\n",
      "Failed for path:./Base SER/ALL/JE_sa05.wav\n",
      "Failed for path:./Base SER/ALL/DC_d01.wav\n",
      "Failed for path:./Base SER/ALL/JK_n11.wav\n",
      "Failed for path:./Base SER/ALL/JE_a15.wav\n"
     ]
    }
   ],
   "source": [
    "zcr_list = []\n",
    "rms_list = []\n",
    "mfccs_list = []\n",
    "emotion_list = []\n",
    "\n",
    "FRAME_LENGTH = 2048\n",
    "HOP_LENGTH = 512\n",
    "\n",
    "for row in df.itertuples(index=False):\n",
    "    try: \n",
    "        y, sr = preprocess_audio(row.path)\n",
    "\n",
    "        zcr = librosa.feature.zero_crossing_rate(y, frame_length=FRAME_LENGTH, hop_length=HOP_LENGTH)\n",
    "        rms = librosa.feature.rms(y=y, frame_length=FRAME_LENGTH, hop_length=HOP_LENGTH)\n",
    "        mfccs = librosa.feature.mfcc(y=y, sr=sr, n_mfcc=13, hop_length=HOP_LENGTH)\n",
    "\n",
    "        zcr_list.append(zcr)\n",
    "        rms_list.append(rms)\n",
    "        mfccs_list.append(mfccs)\n",
    "\n",
    "        emotion_list.append(encode(row.emotion))\n",
    "    except:\n",
    "        print(f\"Failed for path:{row.path}\")"
   ]
  },
  {
   "cell_type": "markdown",
   "id": "a4d40473",
   "metadata": {},
   "source": [
    "Aquí se combinan las características extraídas de las muestras de audio (ZCR, RMS y MFCC) en una matriz X y las etiquetas de emoción en un arreglo y, ambos en un formato adecuado para ser utilizado en un modelo de aprendizaje automático."
   ]
  },
  {
   "cell_type": "code",
   "execution_count": 33,
   "id": "cde38431",
   "metadata": {},
   "outputs": [],
   "source": [
    "X = np.concatenate((\n",
    "    np.swapaxes(zcr_list, 1, 2), \n",
    "    np.swapaxes(rms_list, 1, 2), \n",
    "    np.swapaxes(mfccs_list, 1, 2)), \n",
    "    axis=2\n",
    ")\n",
    "X = X.astype('float32')\n",
    "\n",
    "y = np.asarray(emotion_list)\n",
    "y = np.expand_dims(y, axis=1).astype('int8')"
   ]
  },
  {
   "cell_type": "markdown",
   "id": "3a08351f",
   "metadata": {},
   "source": [
    "Se divide el conjunto de datos en conjuntos de entrenamiento, validación y prueba, y realiza la codificación categórica de las etiquetas de clase para los conjuntos de entrenamiento y validación.\n",
    "\n",
    "Se agregan dos capas **LSTM**, cada una con 64 unidades, y se especifica que la primera capa debe devolver secuencias completas. La segunda capa **LSTM** devuelve solo la última salida. Luego se agrega una capa densa con 6 unidades y función de activación ***softmax*** para generar probabilidades de pertenecer a cada una de las 6 clases de emociones. Se imprime un resumen del modelo que muestra información detallada sobre la estructura y los parámetros entrenables."
   ]
  },
  {
   "cell_type": "code",
   "execution_count": 34,
   "id": "510c0aff",
   "metadata": {},
   "outputs": [],
   "source": [
    "X_train, X_to_split, y_train, y_to_split = train_test_split(X, y, test_size=0.15, random_state=1)\n",
    "X_val, X_test, y_val, y_test = train_test_split(X_to_split, y_to_split, test_size=0.3, random_state=1)\n",
    "\n",
    "y_train_class = to_categorical(y_train, 6)\n",
    "y_val_class = to_categorical(y_val, 6)"
   ]
  },
  {
   "cell_type": "markdown",
   "id": "0fc96e5d",
   "metadata": {},
   "source": [
    "Se define un modelo de red neuronal recurrente (RNN) utilizando la clase Sequential de Keras. El modelo consta de dos capas **LSTM** (***Long Short-Term Memory***) y una capa densa de salida.\n",
    "\n"
   ]
  },
  {
   "cell_type": "code",
   "execution_count": 35,
   "id": "f66ea7de",
   "metadata": {},
   "outputs": [
    {
     "name": "stdout",
     "output_type": "stream",
     "text": [
      "Model: \"sequential\"\n",
      "_________________________________________________________________\n",
      " Layer (type)                Output Shape              Param #   \n",
      "=================================================================\n",
      " lstm (LSTM)                 (None, 352, 64)           20480     \n",
      "                                                                 \n",
      " lstm_1 (LSTM)               (None, 64)                33024     \n",
      "                                                                 \n",
      " dense (Dense)               (None, 6)                 390       \n",
      "                                                                 \n",
      "=================================================================\n",
      "Total params: 53,894\n",
      "Trainable params: 53,894\n",
      "Non-trainable params: 0\n",
      "_________________________________________________________________\n",
      "None\n"
     ]
    }
   ],
   "source": [
    "MODEL = Sequential()\n",
    "MODEL.add(layers.LSTM(64, return_sequences=True, input_shape=(X.shape[1:3])))\n",
    "MODEL.add(layers.LSTM(64))\n",
    "MODEL.add(layers.Dense(6, activation='softmax'))\n",
    "\n",
    "print(MODEL.summary())"
   ]
  },
  {
   "cell_type": "markdown",
   "id": "d9acafa4",
   "metadata": {},
   "source": [
    "SE realiza el entrenamiento de un modelo de aprendizaje profundo utilizando Keras:\n",
    "\n",
    "- Se utiliza una ***callback*** para ajustar automáticamente la tasa de aprendizaje del modelo. \n",
    "- El modelo se compila con una ***función de pérdida de entropía cruzada categórica***, un ***optimizador RMSProp*** y se evalúa la precisión categórica. \n",
    "- Se realiza el entrenamiento del modelo utilizando los datos de entrenamiento y validación proporcionados. El entrenamiento se lleva a cabo durante **100 épocas**, utilizando **lotes de tamaño 32**. \n",
    "\n",
    "El resultado del entrenamiento se guarda en una variable llamada \"model\"."
   ]
  },
  {
   "cell_type": "code",
   "execution_count": 36,
   "id": "0d704c65",
   "metadata": {},
   "outputs": [
    {
     "name": "stdout",
     "output_type": "stream",
     "text": [
      "Epoch 1/100\n",
      "84/84 [==============================] - 40s 421ms/step - loss: 1.6245 - categorical_accuracy: 0.2768 - val_loss: 1.6719 - val_categorical_accuracy: 0.2931\n",
      "Epoch 2/100\n",
      "84/84 [==============================] - 34s 410ms/step - loss: 1.5336 - categorical_accuracy: 0.3368 - val_loss: 1.4985 - val_categorical_accuracy: 0.3867\n",
      "Epoch 3/100\n",
      "84/84 [==============================] - 34s 408ms/step - loss: 1.4867 - categorical_accuracy: 0.3514 - val_loss: 1.5413 - val_categorical_accuracy: 0.3746\n",
      "Epoch 4/100\n",
      "84/84 [==============================] - 35s 411ms/step - loss: 1.4834 - categorical_accuracy: 0.3685 - val_loss: 1.5104 - val_categorical_accuracy: 0.4441\n",
      "Epoch 5/100\n",
      "84/84 [==============================] - 34s 399ms/step - loss: 1.4510 - categorical_accuracy: 0.3868 - val_loss: 1.4954 - val_categorical_accuracy: 0.3837\n",
      "Epoch 6/100\n",
      "84/84 [==============================] - 34s 401ms/step - loss: 1.4150 - categorical_accuracy: 0.4110 - val_loss: 1.4575 - val_categorical_accuracy: 0.4260\n",
      "Epoch 7/100\n",
      "84/84 [==============================] - 34s 407ms/step - loss: 1.3672 - categorical_accuracy: 0.4181 - val_loss: 1.4261 - val_categorical_accuracy: 0.4381\n",
      "Epoch 8/100\n",
      "84/84 [==============================] - 40s 473ms/step - loss: 1.3662 - categorical_accuracy: 0.4357 - val_loss: 1.4868 - val_categorical_accuracy: 0.4320\n",
      "Epoch 9/100\n",
      "84/84 [==============================] - 35s 411ms/step - loss: 1.3210 - categorical_accuracy: 0.4372 - val_loss: 1.2742 - val_categorical_accuracy: 0.5347\n",
      "Epoch 10/100\n",
      "84/84 [==============================] - 34s 404ms/step - loss: 1.2591 - categorical_accuracy: 0.4655 - val_loss: 1.3035 - val_categorical_accuracy: 0.4773\n",
      "Epoch 11/100\n",
      "84/84 [==============================] - 36s 427ms/step - loss: 1.2373 - categorical_accuracy: 0.4860 - val_loss: 1.2249 - val_categorical_accuracy: 0.5136\n",
      "Epoch 12/100\n",
      "84/84 [==============================] - 34s 403ms/step - loss: 1.2120 - categorical_accuracy: 0.4920 - val_loss: 1.5074 - val_categorical_accuracy: 0.4169\n",
      "Epoch 13/100\n",
      "84/84 [==============================] - 35s 412ms/step - loss: 1.2018 - categorical_accuracy: 0.4827 - val_loss: 1.1869 - val_categorical_accuracy: 0.5045\n",
      "Epoch 14/100\n",
      "84/84 [==============================] - 34s 410ms/step - loss: 1.1382 - categorical_accuracy: 0.5203 - val_loss: 1.3571 - val_categorical_accuracy: 0.4924\n",
      "Epoch 15/100\n",
      "84/84 [==============================] - 34s 408ms/step - loss: 1.1078 - categorical_accuracy: 0.5420 - val_loss: 1.1758 - val_categorical_accuracy: 0.5378\n",
      "Epoch 16/100\n",
      "84/84 [==============================] - 34s 399ms/step - loss: 1.0976 - categorical_accuracy: 0.5524 - val_loss: 1.1196 - val_categorical_accuracy: 0.5619\n",
      "Epoch 17/100\n",
      "84/84 [==============================] - 38s 448ms/step - loss: 1.0344 - categorical_accuracy: 0.5938 - val_loss: 0.9823 - val_categorical_accuracy: 0.6314\n",
      "Epoch 18/100\n",
      "84/84 [==============================] - 40s 478ms/step - loss: 0.9673 - categorical_accuracy: 0.6173 - val_loss: 0.9726 - val_categorical_accuracy: 0.6375\n",
      "Epoch 19/100\n",
      "84/84 [==============================] - 41s 483ms/step - loss: 0.9310 - categorical_accuracy: 0.6281 - val_loss: 0.9865 - val_categorical_accuracy: 0.6405\n",
      "Epoch 20/100\n",
      "84/84 [==============================] - 38s 447ms/step - loss: 0.9283 - categorical_accuracy: 0.6307 - val_loss: 0.9506 - val_categorical_accuracy: 0.6314\n",
      "Epoch 21/100\n",
      "84/84 [==============================] - 34s 409ms/step - loss: 0.9094 - categorical_accuracy: 0.6464 - val_loss: 1.3016 - val_categorical_accuracy: 0.5740\n",
      "Epoch 22/100\n",
      "84/84 [==============================] - 35s 420ms/step - loss: 0.9077 - categorical_accuracy: 0.6483 - val_loss: 1.0017 - val_categorical_accuracy: 0.6193\n",
      "Epoch 23/100\n",
      "84/84 [==============================] - 36s 431ms/step - loss: 0.8742 - categorical_accuracy: 0.6602 - val_loss: 0.9995 - val_categorical_accuracy: 0.5770\n",
      "Epoch 24/100\n",
      "84/84 [==============================] - 36s 425ms/step - loss: 0.8613 - categorical_accuracy: 0.6669 - val_loss: 1.0852 - val_categorical_accuracy: 0.5921\n",
      "Epoch 25/100\n",
      "84/84 [==============================] - 34s 410ms/step - loss: 0.8186 - categorical_accuracy: 0.6826 - val_loss: 0.8680 - val_categorical_accuracy: 0.6707\n",
      "Epoch 26/100\n",
      "84/84 [==============================] - 34s 406ms/step - loss: 0.7979 - categorical_accuracy: 0.6934 - val_loss: 0.8857 - val_categorical_accuracy: 0.6647\n",
      "Epoch 27/100\n",
      "84/84 [==============================] - 35s 411ms/step - loss: 0.8045 - categorical_accuracy: 0.6792 - val_loss: 0.8545 - val_categorical_accuracy: 0.6737\n",
      "Epoch 28/100\n",
      "84/84 [==============================] - 34s 406ms/step - loss: 0.7903 - categorical_accuracy: 0.6949 - val_loss: 0.8503 - val_categorical_accuracy: 0.6798\n",
      "Epoch 29/100\n",
      "84/84 [==============================] - 40s 470ms/step - loss: 0.7332 - categorical_accuracy: 0.7068 - val_loss: 0.8020 - val_categorical_accuracy: 0.6949\n",
      "Epoch 30/100\n",
      "84/84 [==============================] - 35s 415ms/step - loss: 0.7325 - categorical_accuracy: 0.7139 - val_loss: 0.7545 - val_categorical_accuracy: 0.7160\n",
      "Epoch 31/100\n",
      "84/84 [==============================] - 36s 425ms/step - loss: 0.7363 - categorical_accuracy: 0.7109 - val_loss: 0.7475 - val_categorical_accuracy: 0.7160\n",
      "Epoch 32/100\n",
      "84/84 [==============================] - 35s 414ms/step - loss: 0.6972 - categorical_accuracy: 0.7329 - val_loss: 0.7807 - val_categorical_accuracy: 0.6949\n",
      "Epoch 33/100\n",
      "84/84 [==============================] - 35s 420ms/step - loss: 0.6961 - categorical_accuracy: 0.7206 - val_loss: 0.8087 - val_categorical_accuracy: 0.6828\n",
      "Epoch 34/100\n",
      "84/84 [==============================] - 34s 403ms/step - loss: 0.6889 - categorical_accuracy: 0.7314 - val_loss: 0.7549 - val_categorical_accuracy: 0.6979\n",
      "Epoch 35/100\n",
      "84/84 [==============================] - 34s 408ms/step - loss: 0.6599 - categorical_accuracy: 0.7438 - val_loss: 0.9306 - val_categorical_accuracy: 0.6314\n",
      "Epoch 36/100\n",
      "84/84 [==============================] - 36s 433ms/step - loss: 0.6708 - categorical_accuracy: 0.7344 - val_loss: 0.7199 - val_categorical_accuracy: 0.6979\n",
      "Epoch 37/100\n",
      "84/84 [==============================] - 35s 414ms/step - loss: 0.6800 - categorical_accuracy: 0.7322 - val_loss: 0.7827 - val_categorical_accuracy: 0.6858\n",
      "Epoch 38/100\n",
      "84/84 [==============================] - 34s 407ms/step - loss: 0.6869 - categorical_accuracy: 0.7341 - val_loss: 0.6936 - val_categorical_accuracy: 0.7281\n",
      "Epoch 39/100\n",
      "84/84 [==============================] - 34s 403ms/step - loss: 0.6733 - categorical_accuracy: 0.7292 - val_loss: 0.7409 - val_categorical_accuracy: 0.6918\n",
      "Epoch 40/100\n",
      "84/84 [==============================] - 35s 411ms/step - loss: 0.6542 - categorical_accuracy: 0.7374 - val_loss: 0.7187 - val_categorical_accuracy: 0.7130\n",
      "Epoch 41/100\n",
      "84/84 [==============================] - 34s 409ms/step - loss: 0.6604 - categorical_accuracy: 0.7400 - val_loss: 0.6891 - val_categorical_accuracy: 0.7160\n",
      "Epoch 42/100\n",
      "84/84 [==============================] - 34s 408ms/step - loss: 0.6523 - categorical_accuracy: 0.7419 - val_loss: 0.7032 - val_categorical_accuracy: 0.7130\n",
      "Epoch 43/100\n",
      "84/84 [==============================] - 34s 409ms/step - loss: 0.6370 - categorical_accuracy: 0.7404 - val_loss: 0.7537 - val_categorical_accuracy: 0.6888\n",
      "Epoch 44/100\n",
      "84/84 [==============================] - 35s 412ms/step - loss: 0.6394 - categorical_accuracy: 0.7464 - val_loss: 0.7705 - val_categorical_accuracy: 0.6918\n",
      "Epoch 45/100\n",
      "84/84 [==============================] - 34s 400ms/step - loss: 0.6336 - categorical_accuracy: 0.7419 - val_loss: 0.7695 - val_categorical_accuracy: 0.7009\n",
      "Epoch 46/100\n",
      "84/84 [==============================] - 38s 451ms/step - loss: 0.6379 - categorical_accuracy: 0.7501 - val_loss: 0.6660 - val_categorical_accuracy: 0.7402\n",
      "Epoch 47/100\n",
      "84/84 [==============================] - 35s 412ms/step - loss: 0.6378 - categorical_accuracy: 0.7542 - val_loss: 0.7192 - val_categorical_accuracy: 0.7372\n",
      "Epoch 48/100\n",
      "84/84 [==============================] - 37s 435ms/step - loss: 0.6410 - categorical_accuracy: 0.7557 - val_loss: 0.6956 - val_categorical_accuracy: 0.7190\n",
      "Epoch 49/100\n"
     ]
    },
    {
     "name": "stdout",
     "output_type": "stream",
     "text": [
      "84/84 [==============================] - 35s 418ms/step - loss: 0.5770 - categorical_accuracy: 0.7747 - val_loss: 0.6656 - val_categorical_accuracy: 0.7190\n",
      "Epoch 50/100\n",
      "84/84 [==============================] - 34s 411ms/step - loss: 0.5776 - categorical_accuracy: 0.7758 - val_loss: 0.6501 - val_categorical_accuracy: 0.7341\n",
      "Epoch 51/100\n",
      "84/84 [==============================] - 35s 411ms/step - loss: 0.5586 - categorical_accuracy: 0.7833 - val_loss: 0.6708 - val_categorical_accuracy: 0.7130\n",
      "Epoch 52/100\n",
      "84/84 [==============================] - 37s 437ms/step - loss: 0.5487 - categorical_accuracy: 0.7837 - val_loss: 0.6338 - val_categorical_accuracy: 0.7644\n",
      "Epoch 53/100\n",
      "84/84 [==============================] - 38s 457ms/step - loss: 0.5630 - categorical_accuracy: 0.7784 - val_loss: 0.6773 - val_categorical_accuracy: 0.7160\n",
      "Epoch 54/100\n",
      "84/84 [==============================] - 34s 402ms/step - loss: 0.5593 - categorical_accuracy: 0.7807 - val_loss: 0.7138 - val_categorical_accuracy: 0.6949\n",
      "Epoch 55/100\n",
      "84/84 [==============================] - 34s 410ms/step - loss: 0.5231 - categorical_accuracy: 0.7963 - val_loss: 0.6582 - val_categorical_accuracy: 0.7190\n",
      "Epoch 56/100\n",
      "84/84 [==============================] - 35s 418ms/step - loss: 0.4937 - categorical_accuracy: 0.8034 - val_loss: 0.5675 - val_categorical_accuracy: 0.7674\n",
      "Epoch 57/100\n",
      "84/84 [==============================] - 34s 409ms/step - loss: 0.4906 - categorical_accuracy: 0.7945 - val_loss: 0.6833 - val_categorical_accuracy: 0.7221\n",
      "Epoch 58/100\n",
      "84/84 [==============================] - 35s 412ms/step - loss: 0.4944 - categorical_accuracy: 0.8034 - val_loss: 0.6770 - val_categorical_accuracy: 0.7130\n",
      "Epoch 59/100\n",
      "84/84 [==============================] - 39s 462ms/step - loss: 0.4957 - categorical_accuracy: 0.8128 - val_loss: 0.5852 - val_categorical_accuracy: 0.7644\n",
      "Epoch 60/100\n",
      "84/84 [==============================] - 34s 406ms/step - loss: 0.4994 - categorical_accuracy: 0.8094 - val_loss: 0.5260 - val_categorical_accuracy: 0.8006\n",
      "Epoch 61/100\n",
      "84/84 [==============================] - 35s 415ms/step - loss: 0.4809 - categorical_accuracy: 0.8139 - val_loss: 0.6342 - val_categorical_accuracy: 0.7462\n",
      "Epoch 62/100\n",
      "84/84 [==============================] - 35s 412ms/step - loss: 0.4866 - categorical_accuracy: 0.8079 - val_loss: 0.5714 - val_categorical_accuracy: 0.7764\n",
      "Epoch 63/100\n",
      "84/84 [==============================] - 35s 411ms/step - loss: 0.4751 - categorical_accuracy: 0.8165 - val_loss: 0.6249 - val_categorical_accuracy: 0.7613\n",
      "Epoch 64/100\n",
      "84/84 [==============================] - 35s 414ms/step - loss: 0.4671 - categorical_accuracy: 0.8113 - val_loss: 0.4972 - val_categorical_accuracy: 0.7946\n",
      "Epoch 65/100\n",
      "84/84 [==============================] - 34s 409ms/step - loss: 0.4645 - categorical_accuracy: 0.8157 - val_loss: 0.5770 - val_categorical_accuracy: 0.7764\n",
      "Epoch 66/100\n",
      "84/84 [==============================] - 34s 409ms/step - loss: 0.4606 - categorical_accuracy: 0.8180 - val_loss: 0.4702 - val_categorical_accuracy: 0.8127\n",
      "Epoch 67/100\n",
      "84/84 [==============================] - 35s 415ms/step - loss: 0.4521 - categorical_accuracy: 0.8221 - val_loss: 0.5518 - val_categorical_accuracy: 0.7795\n",
      "Epoch 68/100\n",
      "84/84 [==============================] - 35s 417ms/step - loss: 0.4397 - categorical_accuracy: 0.8236 - val_loss: 0.6121 - val_categorical_accuracy: 0.7704\n",
      "Epoch 69/100\n",
      "84/84 [==============================] - 35s 420ms/step - loss: 0.4345 - categorical_accuracy: 0.8210 - val_loss: 0.4873 - val_categorical_accuracy: 0.8127\n",
      "Epoch 70/100\n",
      "84/84 [==============================] - 34s 403ms/step - loss: 0.4157 - categorical_accuracy: 0.8374 - val_loss: 0.4908 - val_categorical_accuracy: 0.7976\n",
      "Epoch 71/100\n",
      "84/84 [==============================] - 36s 425ms/step - loss: 0.4263 - categorical_accuracy: 0.8258 - val_loss: 0.6237 - val_categorical_accuracy: 0.7644\n",
      "Epoch 72/100\n",
      "84/84 [==============================] - 40s 471ms/step - loss: 0.4396 - categorical_accuracy: 0.8225 - val_loss: 0.5554 - val_categorical_accuracy: 0.7764\n",
      "Epoch 73/100\n",
      "84/84 [==============================] - 43s 510ms/step - loss: 0.4109 - categorical_accuracy: 0.8482 - val_loss: 0.4819 - val_categorical_accuracy: 0.8278\n",
      "Epoch 74/100\n",
      "84/84 [==============================] - 53s 633ms/step - loss: 0.4402 - categorical_accuracy: 0.8210 - val_loss: 0.5555 - val_categorical_accuracy: 0.7946\n",
      "Epoch 75/100\n",
      "84/84 [==============================] - 53s 634ms/step - loss: 0.4064 - categorical_accuracy: 0.8370 - val_loss: 0.6219 - val_categorical_accuracy: 0.7583\n",
      "Epoch 76/100\n",
      "84/84 [==============================] - 44s 525ms/step - loss: 0.4126 - categorical_accuracy: 0.8292 - val_loss: 0.4622 - val_categorical_accuracy: 0.8248\n",
      "Epoch 77/100\n",
      "84/84 [==============================] - 39s 463ms/step - loss: 0.4286 - categorical_accuracy: 0.8314 - val_loss: 0.5378 - val_categorical_accuracy: 0.8097\n",
      "Epoch 78/100\n",
      "84/84 [==============================] - 36s 435ms/step - loss: 0.4145 - categorical_accuracy: 0.8329 - val_loss: 0.4977 - val_categorical_accuracy: 0.8127\n",
      "Epoch 79/100\n",
      "84/84 [==============================] - 40s 481ms/step - loss: 0.4043 - categorical_accuracy: 0.8359 - val_loss: 0.4703 - val_categorical_accuracy: 0.8097\n",
      "Epoch 80/100\n",
      "84/84 [==============================] - 37s 440ms/step - loss: 0.3979 - categorical_accuracy: 0.8441 - val_loss: 0.6479 - val_categorical_accuracy: 0.7613\n",
      "Epoch 81/100\n",
      "84/84 [==============================] - 36s 426ms/step - loss: 0.3873 - categorical_accuracy: 0.8463 - val_loss: 0.5589 - val_categorical_accuracy: 0.7976\n",
      "Epoch 82/100\n",
      "84/84 [==============================] - 36s 426ms/step - loss: 0.3998 - categorical_accuracy: 0.8381 - val_loss: 0.5478 - val_categorical_accuracy: 0.7915\n",
      "Epoch 83/100\n",
      "84/84 [==============================] - 36s 424ms/step - loss: 0.3978 - categorical_accuracy: 0.8456 - val_loss: 0.4731 - val_categorical_accuracy: 0.8338\n",
      "Epoch 84/100\n",
      "84/84 [==============================] - 38s 459ms/step - loss: 0.4076 - categorical_accuracy: 0.8407 - val_loss: 0.5126 - val_categorical_accuracy: 0.8127\n",
      "Epoch 85/100\n",
      "84/84 [==============================] - 40s 474ms/step - loss: 0.3871 - categorical_accuracy: 0.8430 - val_loss: 0.5741 - val_categorical_accuracy: 0.8218\n",
      "Epoch 86/100\n",
      "84/84 [==============================] - 38s 455ms/step - loss: 0.3954 - categorical_accuracy: 0.8430 - val_loss: 0.6409 - val_categorical_accuracy: 0.7492\n",
      "Epoch 87/100\n",
      "84/84 [==============================] - 37s 435ms/step - loss: 0.3908 - categorical_accuracy: 0.8519 - val_loss: 0.5020 - val_categorical_accuracy: 0.8248\n",
      "Epoch 88/100\n",
      "84/84 [==============================] - 40s 471ms/step - loss: 0.4040 - categorical_accuracy: 0.8377 - val_loss: 0.4756 - val_categorical_accuracy: 0.8157\n",
      "Epoch 89/100\n",
      "84/84 [==============================] - 38s 451ms/step - loss: 0.3831 - categorical_accuracy: 0.8508 - val_loss: 0.4882 - val_categorical_accuracy: 0.8157\n",
      "Epoch 90/100\n",
      "84/84 [==============================] - 37s 446ms/step - loss: 0.3789 - categorical_accuracy: 0.8534 - val_loss: 0.5755 - val_categorical_accuracy: 0.7885\n",
      "Epoch 91/100\n",
      "84/84 [==============================] - 36s 425ms/step - loss: 0.4176 - categorical_accuracy: 0.8381 - val_loss: 0.6342 - val_categorical_accuracy: 0.7734\n",
      "Epoch 92/100\n",
      "84/84 [==============================] - 36s 424ms/step - loss: 0.4167 - categorical_accuracy: 0.8292 - val_loss: 0.5121 - val_categorical_accuracy: 0.7976\n",
      "Epoch 93/100\n",
      "84/84 [==============================] - 37s 434ms/step - loss: 0.3794 - categorical_accuracy: 0.8445 - val_loss: 0.5091 - val_categorical_accuracy: 0.7976\n",
      "Epoch 94/100\n",
      "84/84 [==============================] - 37s 443ms/step - loss: 0.3941 - categorical_accuracy: 0.8392 - val_loss: 0.4776 - val_categorical_accuracy: 0.8066\n",
      "Epoch 95/100\n",
      "84/84 [==============================] - 35s 412ms/step - loss: 0.3688 - categorical_accuracy: 0.8523 - val_loss: 0.5432 - val_categorical_accuracy: 0.8097\n",
      "Epoch 96/100\n",
      "84/84 [==============================] - 36s 428ms/step - loss: 0.3846 - categorical_accuracy: 0.8452 - val_loss: 0.6343 - val_categorical_accuracy: 0.7855\n",
      "Epoch 97/100\n"
     ]
    },
    {
     "name": "stdout",
     "output_type": "stream",
     "text": [
      "84/84 [==============================] - 35s 413ms/step - loss: 0.3968 - categorical_accuracy: 0.8452 - val_loss: 0.5226 - val_categorical_accuracy: 0.8006\n",
      "Epoch 98/100\n",
      "84/84 [==============================] - 36s 432ms/step - loss: 0.3770 - categorical_accuracy: 0.8508 - val_loss: 0.5397 - val_categorical_accuracy: 0.7976\n",
      "Epoch 99/100\n",
      "84/84 [==============================] - 40s 471ms/step - loss: 0.4115 - categorical_accuracy: 0.8392 - val_loss: 0.5941 - val_categorical_accuracy: 0.7946\n",
      "Epoch 100/100\n",
      "84/84 [==============================] - 35s 418ms/step - loss: 0.4075 - categorical_accuracy: 0.8385 - val_loss: 0.6176 - val_categorical_accuracy: 0.7644\n"
     ]
    }
   ],
   "source": [
    "rlrop = callbacks.ReduceLROnPlateau(monitor='val_categorical_accuracy', factor=0.2, patience=70)\n",
    "MODEL.compile(loss='categorical_crossentropy', optimizer='RMSProp', metrics=['categorical_accuracy'])\n",
    "model = MODEL.fit(X_train, y_train_class, epochs=100, batch_size=32, validation_data=(X_val, y_val_class))"
   ]
  },
  {
   "cell_type": "markdown",
   "id": "e2d11903",
   "metadata": {},
   "source": [
    "Se guarda el modelo **SER.h5**"
   ]
  },
  {
   "cell_type": "code",
   "execution_count": 37,
   "id": "5607ab99",
   "metadata": {},
   "outputs": [],
   "source": [
    "MODEL.save('SER.h5')"
   ]
  },
  {
   "cell_type": "markdown",
   "id": "26629e0e",
   "metadata": {},
   "source": [
    "Se genera una **gráfica** que muestra la **pérdida del modelo** en los conjuntos de entrenamiento y validación a lo largo de las épocas."
   ]
  },
  {
   "cell_type": "code",
   "execution_count": 38,
   "id": "ca032229",
   "metadata": {},
   "outputs": [
    {
     "data": {
      "image/png": "[encoded data removed]",
      "text/plain": [
       "<Figure size 500x500 with 1 Axes>"
      ]
     },
     "metadata": {},
     "output_type": "display_data"
    }
   ],
   "source": [
    "plt.figure(figsize=(5, 5)) \n",
    "plt.plot(model.history['loss'])\n",
    "plt.plot(model.history['val_loss'])\n",
    "plt.title('Loss for Train and Validation Sets')\n",
    "plt.ylabel('Loss') \n",
    "plt.xlabel('Epochs')\n",
    "plt.legend(['Training','Validation']) \n",
    "plt.show()"
   ]
  },
  {
   "cell_type": "markdown",
   "id": "0a7ab2a0",
   "metadata": {},
   "source": [
    "Se genera una **gráfica** que muestra la **precisión del modelo** en los conjuntos de entrenamiento y validación a lo largo de las épocas."
   ]
  },
  {
   "cell_type": "code",
   "execution_count": 39,
   "id": "16bdb91f",
   "metadata": {},
   "outputs": [
    {
     "data": {
      "image/png": "[encoded data removed]",
      "text/plain": [
       "<Figure size 500x500 with 1 Axes>"
      ]
     },
     "metadata": {},
     "output_type": "display_data"
    }
   ],
   "source": [
    "plt.figure(figsize=(5, 5)) \n",
    "plt.plot(model.history['categorical_accuracy'])\n",
    "plt.plot(model.history['val_categorical_accuracy'])\n",
    "plt.ylabel('Accuracy') \n",
    "plt.xlabel('Epochs') \n",
    "plt.legend(['Training','Validation']) \n",
    "plt.show()"
   ]
  },
  {
   "cell_type": "markdown",
   "id": "f6281f90",
   "metadata": {},
   "source": [
    "Se calcula la **matriz de confusión** entre las clases verdaderas y las predichas por el modelo en el conjunto de validación. \n",
    "\n",
    "Se observa precisión en el modelo."
   ]
  },
  {
   "cell_type": "code",
   "execution_count": 40,
   "id": "d32efdfa",
   "metadata": {},
   "outputs": [
    {
     "name": "stdout",
     "output_type": "stream",
     "text": [
      "11/11 [==============================] - 3s 173ms/step\n"
     ]
    },
    {
     "data": {
      "image/png": "[encoded data removed]",
      "text/plain": [
       "<Figure size 640x480 with 2 Axes>"
      ]
     },
     "metadata": {},
     "output_type": "display_data"
    }
   ],
   "source": [
    "y_pred = np.argmax(MODEL.predict(X_val), axis=1)\n",
    "labels = ['neutral', 'calm', 'sad', 'happy', 'fear', 'disgust']\n",
    "cma = confusion_matrix(np.argmax(y_val_class, axis=1), y_pred, labels=range(6))\n",
    "\n",
    "sns.heatmap(cma, annot=True, fmt='d', cmap='Blues', xticklabels=labels, yticklabels=labels)\n",
    "plt.xlabel('Predicted label')\n",
    "plt.ylabel('True label')\n",
    "plt.title('Confusion matrix')\n",
    "plt.show()"
   ]
  },
  {
   "cell_type": "markdown",
   "id": "ff1ea46e",
   "metadata": {},
   "source": [
    "Se calcula y muestra la **precisión general del modelo**, **la precisión**, el **recall** y la **puntuación F1** para la clase ***'calm'*** basándose en la **matriz de confusión generada**. "
   ]
  },
  {
   "cell_type": "code",
   "execution_count": 41,
   "id": "04ed5362",
   "metadata": {},
   "outputs": [
    {
     "name": "stdout",
     "output_type": "stream",
     "text": [
      "Accuracy: 0.7643504531722054\n",
      "Precision: 0.6428571428571429\n",
      "Recall: 0.75\n",
      "F1 Score: 0.6923076923076924\n"
     ]
    }
   ],
   "source": [
    "accuracy = np.trace(cma) / np.sum(cma)\n",
    "precision = cma[1, 1] / np.sum(cma[:, 1])\n",
    "recall = cma[1, 1] / np.sum(cma[1, :])\n",
    "f1 = 2 * (precision * recall) / (precision + recall)\n",
    "\n",
    "# Print metrics\n",
    "print(\"Accuracy:\", accuracy)\n",
    "print(\"Precision:\", precision)\n",
    "print(\"Recall:\", recall)\n",
    "print(\"F1 Score:\", f1)"
   ]
  }
 ],
 "metadata": {
  "kernelspec": {
   "display_name": "Python 3 (ipykernel)",
   "language": "python",
   "name": "python3"
  },
  "language_info": {
   "codemirror_mode": {
    "name": "ipython",
    "version": 3
   },
   "file_extension": ".py",
   "mimetype": "text/x-python",
   "name": "python",
   "nbconvert_exporter": "python",
   "pygments_lexer": "ipython3",
   "version": "3.10.9"
  }
 },
 "nbformat": 4,
 "nbformat_minor": 5
}
